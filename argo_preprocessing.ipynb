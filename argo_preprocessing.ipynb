{
 "cells": [
  {
   "cell_type": "markdown",
   "metadata": {},
   "source": [
    "# Distributed Data Systems Project Group 12\n",
    "### Task 2 - Data Preprocessing and Writing/Reading to HDFS"
   ]
  },
  {
   "cell_type": "code",
   "execution_count": 1,
   "metadata": {},
   "outputs": [
    {
     "data": {
      "application/vnd.jupyter.widget-view+json": {
       "model_id": "e8264fbde1954d0394010e1c5ab96e0e",
       "version_major": 2,
       "version_minor": 0
      },
      "text/plain": [
       "VBox()"
      ]
     },
     "metadata": {},
     "output_type": "display_data"
    },
    {
     "name": "stdout",
     "output_type": "stream",
     "text": [
      "Starting Spark application\n"
     ]
    },
    {
     "data": {
      "text/html": [
       "<table>\n",
       "<tr><th>ID</th><th>YARN Application ID</th><th>Kind</th><th>State</th><th>Spark UI</th><th>Driver log</th><th>Current session?</th></tr><tr><td>8</td><td>application_1579045070657_0009</td><td>pyspark</td><td>idle</td><td><a target=\"_blank\" href=\"http://ip-172-31-14-18.us-west-1.compute.internal:20888/proxy/application_1579045070657_0009/\">Link</a></td><td><a target=\"_blank\" href=\"http://ip-172-31-2-85.us-west-1.compute.internal:8042/node/containerlogs/container_1579045070657_0009_01_000001/livy\">Link</a></td><td>✔</td></tr></table>"
      ],
      "text/plain": [
       "<IPython.core.display.HTML object>"
      ]
     },
     "metadata": {},
     "output_type": "display_data"
    },
    {
     "data": {
      "application/vnd.jupyter.widget-view+json": {
       "model_id": "",
       "version_major": 2,
       "version_minor": 0
      },
      "text/plain": [
       "FloatProgress(value=0.0, bar_style='info', description='Progress:', layout=Layout(height='25px', width='50%'),…"
      ]
     },
     "metadata": {},
     "output_type": "display_data"
    },
    {
     "name": "stdout",
     "output_type": "stream",
     "text": [
      "SparkSession available as 'spark'.\n"
     ]
    },
    {
     "data": {
      "application/vnd.jupyter.widget-view+json": {
       "model_id": "",
       "version_major": 2,
       "version_minor": 0
      },
      "text/plain": [
       "FloatProgress(value=0.0, bar_style='info', description='Progress:', layout=Layout(height='25px', width='50%'),…"
      ]
     },
     "metadata": {},
     "output_type": "display_data"
    }
   ],
   "source": [
    "from pyspark import SparkContext, SparkConf\n",
    "from pyspark.sql import Row, SparkSession, SQLContext\n",
    "from pyspark.sql.types import *\n",
    "from pyspark.sql.functions import *\n",
    "from pyspark.ml.classification import GBTClassifier\n",
    "from pyspark.ml.evaluation import MulticlassClassificationEvaluator\n",
    "from pyspark.ml.feature import StringIndexer, VectorAssembler, Bucketizer\n",
    "\n",
    "from datetime import datetime\n",
    "import dateutil"
   ]
  },
  {
   "cell_type": "code",
   "execution_count": 2,
   "metadata": {},
   "outputs": [
    {
     "data": {
      "application/vnd.jupyter.widget-view+json": {
       "model_id": "7ff11fa9c8464d6687da2ae7d32904f3",
       "version_major": 2,
       "version_minor": 0
      },
      "text/plain": [
       "VBox()"
      ]
     },
     "metadata": {},
     "output_type": "display_data"
    },
    {
     "data": {
      "application/vnd.jupyter.widget-view+json": {
       "model_id": "",
       "version_major": 2,
       "version_minor": 0
      },
      "text/plain": [
       "FloatProgress(value=0.0, bar_style='info', description='Progress:', layout=Layout(height='25px', width='50%'),…"
      ]
     },
     "metadata": {},
     "output_type": "display_data"
    }
   ],
   "source": [
    "ss = SparkSession.builder.getOrCreate()"
   ]
  },
  {
   "cell_type": "markdown",
   "metadata": {},
   "source": [
    "## Read in Argo data as Spark DataFrame"
   ]
  },
  {
   "cell_type": "code",
   "execution_count": 3,
   "metadata": {},
   "outputs": [
    {
     "data": {
      "application/vnd.jupyter.widget-view+json": {
       "model_id": "2b04e6a5aa8f47dbbeafd831e66458a8",
       "version_major": 2,
       "version_minor": 0
      },
      "text/plain": [
       "VBox()"
      ]
     },
     "metadata": {},
     "output_type": "display_data"
    },
    {
     "data": {
      "application/vnd.jupyter.widget-view+json": {
       "model_id": "",
       "version_major": 2,
       "version_minor": 0
      },
      "text/plain": [
       "FloatProgress(value=0.0, bar_style='info', description='Progress:', layout=Layout(height='25px', width='50%'),…"
      ]
     },
     "metadata": {},
     "output_type": "display_data"
    }
   ],
   "source": [
    "# argo_schema = StructType([StructField(\"profile_id\", StringType(), True),\n",
    "#                           StructField(\"pres\", DoubleType(), True),\n",
    "#                           StructField(\"temp\", DoubleType(), True),\n",
    "#                           StructField(\"lat\", DoubleType(), True),\n",
    "#                           StructField(\"lon\", DoubleType(), True),\n",
    "#                           StructField(\"psal\", DoubleType(), True),\n",
    "#                           StructField(\"date\", TimestampType(), True),\n",
    "#                         ])"
   ]
  },
  {
   "cell_type": "code",
   "execution_count": 4,
   "metadata": {},
   "outputs": [
    {
     "data": {
      "application/vnd.jupyter.widget-view+json": {
       "model_id": "8ef2b8a5c9a44fc2ba99c39cf145c2b9",
       "version_major": 2,
       "version_minor": 0
      },
      "text/plain": [
       "VBox()"
      ]
     },
     "metadata": {},
     "output_type": "display_data"
    },
    {
     "data": {
      "application/vnd.jupyter.widget-view+json": {
       "model_id": "",
       "version_major": 2,
       "version_minor": 0
      },
      "text/plain": [
       "FloatProgress(value=0.0, bar_style='info', description='Progress:', layout=Layout(height='25px', width='50%'),…"
      ]
     },
     "metadata": {},
     "output_type": "display_data"
    }
   ],
   "source": [
    "argo_df_og = ss.read.csv(\"s3://msds-argo-clustering/argo_data.csv\", header=True, inferSchema=True)\n",
    "\n",
    "# Do it this way, because all nulls if define schema ahead of item"
   ]
  },
  {
   "cell_type": "code",
   "execution_count": 5,
   "metadata": {},
   "outputs": [
    {
     "data": {
      "application/vnd.jupyter.widget-view+json": {
       "model_id": "c6ff83318e824511a7059649460f8f42",
       "version_major": 2,
       "version_minor": 0
      },
      "text/plain": [
       "VBox()"
      ]
     },
     "metadata": {},
     "output_type": "display_data"
    },
    {
     "data": {
      "application/vnd.jupyter.widget-view+json": {
       "model_id": "",
       "version_major": 2,
       "version_minor": 0
      },
      "text/plain": [
       "FloatProgress(value=0.0, bar_style='info', description='Progress:', layout=Layout(height='25px', width='50%'),…"
      ]
     },
     "metadata": {},
     "output_type": "display_data"
    },
    {
     "name": "stdout",
     "output_type": "stream",
     "text": [
      "root\n",
      " |-- profile_id: string (nullable = true)\n",
      " |-- pres: double (nullable = true)\n",
      " |-- temp: string (nullable = true)\n",
      " |-- lat: double (nullable = true)\n",
      " |-- lon: double (nullable = true)\n",
      " |-- psal: string (nullable = true)\n",
      " |-- date: timestamp (nullable = true)"
     ]
    }
   ],
   "source": [
    "argo_df_og.printSchema()"
   ]
  },
  {
   "cell_type": "code",
   "execution_count": 6,
   "metadata": {},
   "outputs": [
    {
     "data": {
      "application/vnd.jupyter.widget-view+json": {
       "model_id": "1122904243e7469abcd7076fd038d64e",
       "version_major": 2,
       "version_minor": 0
      },
      "text/plain": [
       "VBox()"
      ]
     },
     "metadata": {},
     "output_type": "display_data"
    },
    {
     "data": {
      "application/vnd.jupyter.widget-view+json": {
       "model_id": "",
       "version_major": 2,
       "version_minor": 0
      },
      "text/plain": [
       "FloatProgress(value=0.0, bar_style='info', description='Progress:', layout=Layout(height='25px', width='50%'),…"
      ]
     },
     "metadata": {},
     "output_type": "display_data"
    }
   ],
   "source": [
    "# Cast temp as DoubleType()\n",
    "argo_df_og = argo_df_og.withColumn(\"tempTmp\", argo_df_og['temp'].cast(DoubleType()))\\\n",
    "                       .drop(\"temp\")\\\n",
    "                       .withColumnRenamed(\"tempTmp\", \"temp\")\\\n",
    "                       .select(\"profile_id\", \"pres\", \"temp\", \"lat\", \"lon\", \"psal\", \"date\")\\\n",
    "                       .persist()"
   ]
  },
  {
   "cell_type": "code",
   "execution_count": 7,
   "metadata": {},
   "outputs": [
    {
     "data": {
      "application/vnd.jupyter.widget-view+json": {
       "model_id": "5a1b65e2eba041b899a433d77762f4c0",
       "version_major": 2,
       "version_minor": 0
      },
      "text/plain": [
       "VBox()"
      ]
     },
     "metadata": {},
     "output_type": "display_data"
    },
    {
     "data": {
      "application/vnd.jupyter.widget-view+json": {
       "model_id": "",
       "version_major": 2,
       "version_minor": 0
      },
      "text/plain": [
       "FloatProgress(value=0.0, bar_style='info', description='Progress:', layout=Layout(height='25px', width='50%'),…"
      ]
     },
     "metadata": {},
     "output_type": "display_data"
    },
    {
     "name": "stdout",
     "output_type": "stream",
     "text": [
      "+-----------+----+-----+-------+--------+----+--------------------+\n",
      "| profile_id|pres| temp|    lat|     lon|psal|                date|\n",
      "+-----------+----+-----+-------+--------+----+--------------------+\n",
      "|5904437_131| 6.7|8.531|-49.507|-177.884|NULL|2018-06-01 23:57:...|\n",
      "|5904437_131|10.1| 8.53|-49.507|-177.884|NULL|2018-06-01 23:57:...|\n",
      "|5904437_131|20.1|8.531|-49.507|-177.884|NULL|2018-06-01 23:57:...|\n",
      "|5904437_131|31.0|8.527|-49.507|-177.884|NULL|2018-06-01 23:57:...|\n",
      "|5904437_131|41.0|8.528|-49.507|-177.884|NULL|2018-06-01 23:57:...|\n",
      "+-----------+----+-----+-------+--------+----+--------------------+\n",
      "only showing top 5 rows"
     ]
    }
   ],
   "source": [
    "argo_df_og.show(5)"
   ]
  },
  {
   "cell_type": "markdown",
   "metadata": {},
   "source": [
    "## Filter DataFrame by conditions to keep records"
   ]
  },
  {
   "cell_type": "code",
   "execution_count": 8,
   "metadata": {},
   "outputs": [
    {
     "data": {
      "application/vnd.jupyter.widget-view+json": {
       "model_id": "163d6f9f601942ad98eb5963e07bbd9b",
       "version_major": 2,
       "version_minor": 0
      },
      "text/plain": [
       "VBox()"
      ]
     },
     "metadata": {},
     "output_type": "display_data"
    },
    {
     "data": {
      "application/vnd.jupyter.widget-view+json": {
       "model_id": "",
       "version_major": 2,
       "version_minor": 0
      },
      "text/plain": [
       "FloatProgress(value=0.0, bar_style='info', description='Progress:', layout=Layout(height='25px', width='50%'),…"
      ]
     },
     "metadata": {},
     "output_type": "display_data"
    }
   ],
   "source": [
    "argo_filterby = argo_df_og.groupBy(\"profile_id\") \\\n",
    "                          .agg(min(\"pres\").alias(\"min_pres\"), \n",
    "                               max(\"pres\").alias(\"max_pres\"), \n",
    "                               count(\"profile_id\").alias(\"count_profile_id\"))"
   ]
  },
  {
   "cell_type": "code",
   "execution_count": 9,
   "metadata": {},
   "outputs": [
    {
     "data": {
      "application/vnd.jupyter.widget-view+json": {
       "model_id": "42fae4d1693a42d5a3087f4d9068226d",
       "version_major": 2,
       "version_minor": 0
      },
      "text/plain": [
       "VBox()"
      ]
     },
     "metadata": {},
     "output_type": "display_data"
    },
    {
     "data": {
      "application/vnd.jupyter.widget-view+json": {
       "model_id": "",
       "version_major": 2,
       "version_minor": 0
      },
      "text/plain": [
       "FloatProgress(value=0.0, bar_style='info', description='Progress:', layout=Layout(height='25px', width='50%'),…"
      ]
     },
     "metadata": {},
     "output_type": "display_data"
    },
    {
     "name": "stdout",
     "output_type": "stream",
     "text": [
      "+-----------+--------+--------+----------------+\n",
      "| profile_id|min_pres|max_pres|count_profile_id|\n",
      "+-----------+--------+--------+----------------+\n",
      "|3901186_158|    2.83| 2017.53|            1009|\n",
      "|5903298_277|     6.4|  2000.5|              71|\n",
      "| 7900680_19|    1.04|  2003.8|            1008|\n",
      "|5904537_156|    1.08|  1446.0|             729|\n",
      "| 5905053_43|     4.9|  2001.1|             115|\n",
      "+-----------+--------+--------+----------------+\n",
      "only showing top 5 rows"
     ]
    }
   ],
   "source": [
    "argo_filterby.show(5)"
   ]
  },
  {
   "cell_type": "code",
   "execution_count": 10,
   "metadata": {},
   "outputs": [
    {
     "data": {
      "application/vnd.jupyter.widget-view+json": {
       "model_id": "043b5e3cb1b747f2ae3711e7e1265fda",
       "version_major": 2,
       "version_minor": 0
      },
      "text/plain": [
       "VBox()"
      ]
     },
     "metadata": {},
     "output_type": "display_data"
    },
    {
     "data": {
      "application/vnd.jupyter.widget-view+json": {
       "model_id": "",
       "version_major": 2,
       "version_minor": 0
      },
      "text/plain": [
       "FloatProgress(value=0.0, bar_style='info', description='Progress:', layout=Layout(height='25px', width='50%'),…"
      ]
     },
     "metadata": {},
     "output_type": "display_data"
    }
   ],
   "source": [
    "# Now, here are the profile_ids we want to keep, to be inner joined with original argo_df_og\n",
    "argo_keep_ids = argo_filterby.filter(\"count_profile_id >= 50 and min_pres <= 25 and max_pres >= 999\") \\\n",
    "                             .select(\"profile_id\")"
   ]
  },
  {
   "cell_type": "code",
   "execution_count": 11,
   "metadata": {},
   "outputs": [
    {
     "data": {
      "application/vnd.jupyter.widget-view+json": {
       "model_id": "75842403ba874f4196dbc3ca1d17313d",
       "version_major": 2,
       "version_minor": 0
      },
      "text/plain": [
       "VBox()"
      ]
     },
     "metadata": {},
     "output_type": "display_data"
    },
    {
     "data": {
      "application/vnd.jupyter.widget-view+json": {
       "model_id": "",
       "version_major": 2,
       "version_minor": 0
      },
      "text/plain": [
       "FloatProgress(value=0.0, bar_style='info', description='Progress:', layout=Layout(height='25px', width='50%'),…"
      ]
     },
     "metadata": {},
     "output_type": "display_data"
    },
    {
     "name": "stdout",
     "output_type": "stream",
     "text": [
      "98525\n",
      "103913"
     ]
    }
   ],
   "source": [
    "# Expect the number profile_ids to keep < the total number of profile_ids originally\n",
    "print(argo_keep_ids.count())\n",
    "print(argo_df_og.select(\"profile_id\").distinct().count())"
   ]
  },
  {
   "cell_type": "code",
   "execution_count": 12,
   "metadata": {},
   "outputs": [
    {
     "data": {
      "application/vnd.jupyter.widget-view+json": {
       "model_id": "e0e13f58489548b59f46adfddf4ed1f9",
       "version_major": 2,
       "version_minor": 0
      },
      "text/plain": [
       "VBox()"
      ]
     },
     "metadata": {},
     "output_type": "display_data"
    },
    {
     "data": {
      "application/vnd.jupyter.widget-view+json": {
       "model_id": "",
       "version_major": 2,
       "version_minor": 0
      },
      "text/plain": [
       "FloatProgress(value=0.0, bar_style='info', description='Progress:', layout=Layout(height='25px', width='50%'),…"
      ]
     },
     "metadata": {},
     "output_type": "display_data"
    }
   ],
   "source": [
    "# Inner join the profile_ids to keep with original argo_df_og to filter and keep only desired IDs\n",
    "argo_df_keep = argo_keep_ids.join(argo_df_og, \"profile_id\", \"inner\").persist()"
   ]
  },
  {
   "cell_type": "code",
   "execution_count": 13,
   "metadata": {},
   "outputs": [
    {
     "data": {
      "application/vnd.jupyter.widget-view+json": {
       "model_id": "6bfa6c3fc4a54496ae6097e0c4b27808",
       "version_major": 2,
       "version_minor": 0
      },
      "text/plain": [
       "VBox()"
      ]
     },
     "metadata": {},
     "output_type": "display_data"
    },
    {
     "data": {
      "application/vnd.jupyter.widget-view+json": {
       "model_id": "",
       "version_major": 2,
       "version_minor": 0
      },
      "text/plain": [
       "FloatProgress(value=0.0, bar_style='info', description='Progress:', layout=Layout(height='25px', width='50%'),…"
      ]
     },
     "metadata": {},
     "output_type": "display_data"
    },
    {
     "name": "stdout",
     "output_type": "stream",
     "text": [
      "+-----------+----+-----+-------+-------+------+-------------------+\n",
      "| profile_id|pres| temp|    lat|    lon|  psal|               date|\n",
      "+-----------+----+-----+-------+-------+------+-------------------+\n",
      "|1900977_343|10.0|8.954|-55.157|178.214|34.123|2019-02-19 04:32:51|\n",
      "|1900977_343|16.5|8.954|-55.157|178.214|34.123|2019-02-19 04:32:51|\n",
      "|1900977_343|23.4|8.953|-55.157|178.214|34.125|2019-02-19 04:32:51|\n",
      "|1900977_343|30.0|8.952|-55.157|178.214|34.126|2019-02-19 04:32:51|\n",
      "|1900977_343|37.3|8.933|-55.157|178.214|34.126|2019-02-19 04:32:51|\n",
      "+-----------+----+-----+-------+-------+------+-------------------+\n",
      "only showing top 5 rows"
     ]
    }
   ],
   "source": [
    "argo_df_keep.show(5)"
   ]
  },
  {
   "cell_type": "code",
   "execution_count": 14,
   "metadata": {},
   "outputs": [
    {
     "data": {
      "application/vnd.jupyter.widget-view+json": {
       "model_id": "510efa3d734d433b874f6b86e8aed380",
       "version_major": 2,
       "version_minor": 0
      },
      "text/plain": [
       "VBox()"
      ]
     },
     "metadata": {},
     "output_type": "display_data"
    },
    {
     "data": {
      "application/vnd.jupyter.widget-view+json": {
       "model_id": "",
       "version_major": 2,
       "version_minor": 0
      },
      "text/plain": [
       "FloatProgress(value=0.0, bar_style='info', description='Progress:', layout=Layout(height='25px', width='50%'),…"
      ]
     },
     "metadata": {},
     "output_type": "display_data"
    },
    {
     "name": "stdout",
     "output_type": "stream",
     "text": [
      "62117082\n",
      "63590252"
     ]
    }
   ],
   "source": [
    "# Expect argo_df_keep.count() < argo_df.count()\n",
    "print(argo_df_keep.count())\n",
    "print(argo_df_og.count())"
   ]
  },
  {
   "cell_type": "code",
   "execution_count": 15,
   "metadata": {},
   "outputs": [
    {
     "data": {
      "application/vnd.jupyter.widget-view+json": {
       "model_id": "b42bb6d81729463382973afbfdf959f7",
       "version_major": 2,
       "version_minor": 0
      },
      "text/plain": [
       "VBox()"
      ]
     },
     "metadata": {},
     "output_type": "display_data"
    },
    {
     "data": {
      "application/vnd.jupyter.widget-view+json": {
       "model_id": "",
       "version_major": 2,
       "version_minor": 0
      },
      "text/plain": [
       "FloatProgress(value=0.0, bar_style='info', description='Progress:', layout=Layout(height='25px', width='50%'),…"
      ]
     },
     "metadata": {},
     "output_type": "display_data"
    }
   ],
   "source": [
    "argo_df = argo_df_keep.select(\"profile_id\", \"pres\", \"temp\", \"lat\", \"lon\", \"psal\", \"date\", \n",
    "                              month(\"date\").alias(\"month\"), year(\"date\").alias(\"year\")) \\\n",
    "                      .persist()"
   ]
  },
  {
   "cell_type": "code",
   "execution_count": 16,
   "metadata": {},
   "outputs": [
    {
     "data": {
      "application/vnd.jupyter.widget-view+json": {
       "model_id": "b1caa597db73480c8a30266cdf5a05ff",
       "version_major": 2,
       "version_minor": 0
      },
      "text/plain": [
       "VBox()"
      ]
     },
     "metadata": {},
     "output_type": "display_data"
    },
    {
     "data": {
      "application/vnd.jupyter.widget-view+json": {
       "model_id": "",
       "version_major": 2,
       "version_minor": 0
      },
      "text/plain": [
       "FloatProgress(value=0.0, bar_style='info', description='Progress:', layout=Layout(height='25px', width='50%'),…"
      ]
     },
     "metadata": {},
     "output_type": "display_data"
    },
    {
     "name": "stdout",
     "output_type": "stream",
     "text": [
      "+-----------+----+-----+-------+-------+------+-------------------+-----+----+\n",
      "| profile_id|pres| temp|    lat|    lon|  psal|               date|month|year|\n",
      "+-----------+----+-----+-------+-------+------+-------------------+-----+----+\n",
      "|1900977_343|10.0|8.954|-55.157|178.214|34.123|2019-02-19 04:32:51|    2|2019|\n",
      "+-----------+----+-----+-------+-------+------+-------------------+-----+----+\n",
      "only showing top 1 row"
     ]
    }
   ],
   "source": [
    "argo_df.show(1)"
   ]
  },
  {
   "cell_type": "markdown",
   "metadata": {},
   "source": [
    "## Bucketing pressure levels"
   ]
  },
  {
   "cell_type": "code",
   "execution_count": 17,
   "metadata": {},
   "outputs": [
    {
     "data": {
      "application/vnd.jupyter.widget-view+json": {
       "model_id": "41d6f7df94ad404eb0af1f08e064f417",
       "version_major": 2,
       "version_minor": 0
      },
      "text/plain": [
       "VBox()"
      ]
     },
     "metadata": {},
     "output_type": "display_data"
    },
    {
     "data": {
      "application/vnd.jupyter.widget-view+json": {
       "model_id": "",
       "version_major": 2,
       "version_minor": 0
      },
      "text/plain": [
       "FloatProgress(value=0.0, bar_style='info', description='Progress:', layout=Layout(height='25px', width='50%'),…"
      ]
     },
     "metadata": {},
     "output_type": "display_data"
    }
   ],
   "source": [
    "bin_range = [-5, 0,  5,  10,  15,  20,  25,  30,  35,  40,  45,  50,  55,  60,  65,\n",
    "        70,  75,  80,  85,  90,  95, 100, 105, 110, 115, 120, 125, 130,\n",
    "       135, 140, 145, 150, 155, 160, 165, 170, 175, 180, 185, 190, 195,\n",
    "       200, 205, 210, 215, 220, 225, 230, 235, 240, 245, 250, 255, 260,\n",
    "       265, 270, 275, 280, 285, 290, 295, 300, 305, 310, 315, 320, 325,\n",
    "       330, 335, 340, 345, 350, 355, 360, 365, 370, 375, 380, 385, 390,\n",
    "       395, 400, 405, 410, 415, 420, 425, 430, 435, 440, 445, 450, 455,\n",
    "       460, 465, 470, 475, 480, 485, 490, 495, 500, 505, 510, 515, 520,\n",
    "       525, 530, 535, 540, 545, 550, 555, 560, 565, 570, 575, 580, 585,\n",
    "       590, 595, 600, 605, 610, 615, 620, 625, 630, 635, 640, 645, 650,\n",
    "       655, 660, 665, 670, 675, 680, 685, 690, 695, 700, 705, 710, 715,\n",
    "       720, 725, 730, 735, 740, 745, 750, 755, 760, 765, 770, 775, 780,\n",
    "       785, 790, 795, 800, 805, 810, 815, 820, 825, 830, 835, 840, 845,\n",
    "       850, 855, 860, 865, 870, 875, 880, 885, 890, 895, 900, 905, 910,\n",
    "       915, 920, 925, 930, 935, 940, 945, 950, 955, 960, 965, 970, 975,\n",
    "       980, 985, 990, 995, float(\"inf\")]"
   ]
  },
  {
   "cell_type": "code",
   "execution_count": 18,
   "metadata": {},
   "outputs": [
    {
     "data": {
      "application/vnd.jupyter.widget-view+json": {
       "model_id": "00cea651785e4f42987ace3ee42aafd7",
       "version_major": 2,
       "version_minor": 0
      },
      "text/plain": [
       "VBox()"
      ]
     },
     "metadata": {},
     "output_type": "display_data"
    },
    {
     "data": {
      "application/vnd.jupyter.widget-view+json": {
       "model_id": "",
       "version_major": 2,
       "version_minor": 0
      },
      "text/plain": [
       "FloatProgress(value=0.0, bar_style='info', description='Progress:', layout=Layout(height='25px', width='50%'),…"
      ]
     },
     "metadata": {},
     "output_type": "display_data"
    }
   ],
   "source": [
    "bucketizer = Bucketizer(splits=bin_range,inputCol=\"pres\", outputCol=\"pres_buckets\")\n",
    "argo_df_buck = bucketizer.setHandleInvalid(\"keep\").transform(argo_df)"
   ]
  },
  {
   "cell_type": "code",
   "execution_count": 19,
   "metadata": {},
   "outputs": [
    {
     "data": {
      "application/vnd.jupyter.widget-view+json": {
       "model_id": "1a51e81a558e4cbda9492f7e6a5b373e",
       "version_major": 2,
       "version_minor": 0
      },
      "text/plain": [
       "VBox()"
      ]
     },
     "metadata": {},
     "output_type": "display_data"
    },
    {
     "data": {
      "application/vnd.jupyter.widget-view+json": {
       "model_id": "",
       "version_major": 2,
       "version_minor": 0
      },
      "text/plain": [
       "FloatProgress(value=0.0, bar_style='info', description='Progress:', layout=Layout(height='25px', width='50%'),…"
      ]
     },
     "metadata": {},
     "output_type": "display_data"
    },
    {
     "name": "stdout",
     "output_type": "stream",
     "text": [
      "+-----------+----+-----+-------+-------+------+-------------------+-----+----+------------+\n",
      "| profile_id|pres| temp|    lat|    lon|  psal|               date|month|year|pres_buckets|\n",
      "+-----------+----+-----+-------+-------+------+-------------------+-----+----+------------+\n",
      "|1900977_343|10.0|8.954|-55.157|178.214|34.123|2019-02-19 04:32:51|    2|2019|         3.0|\n",
      "|1900977_343|16.5|8.954|-55.157|178.214|34.123|2019-02-19 04:32:51|    2|2019|         4.0|\n",
      "|1900977_343|23.4|8.953|-55.157|178.214|34.125|2019-02-19 04:32:51|    2|2019|         5.0|\n",
      "|1900977_343|30.0|8.952|-55.157|178.214|34.126|2019-02-19 04:32:51|    2|2019|         7.0|\n",
      "|1900977_343|37.3|8.933|-55.157|178.214|34.126|2019-02-19 04:32:51|    2|2019|         8.0|\n",
      "+-----------+----+-----+-------+-------+------+-------------------+-----+----+------------+\n",
      "only showing top 5 rows"
     ]
    }
   ],
   "source": [
    "argo_df_buck.show(5)"
   ]
  },
  {
   "cell_type": "markdown",
   "metadata": {},
   "source": [
    "## Save to HDFS"
   ]
  },
  {
   "cell_type": "code",
   "execution_count": 20,
   "metadata": {},
   "outputs": [
    {
     "data": {
      "application/vnd.jupyter.widget-view+json": {
       "model_id": "e13c538be8eb4a44b75cd10cf99ac1e5",
       "version_major": 2,
       "version_minor": 0
      },
      "text/plain": [
       "VBox()"
      ]
     },
     "metadata": {},
     "output_type": "display_data"
    },
    {
     "data": {
      "application/vnd.jupyter.widget-view+json": {
       "model_id": "",
       "version_major": 2,
       "version_minor": 0
      },
      "text/plain": [
       "FloatProgress(value=0.0, bar_style='info', description='Progress:', layout=Layout(height='25px', width='50%'),…"
      ]
     },
     "metadata": {},
     "output_type": "display_data"
    }
   ],
   "source": [
    "argo_df_buck.write.save('hdfs:///argo', format='parquet', mode='append')"
   ]
  },
  {
   "cell_type": "markdown",
   "metadata": {},
   "source": [
    "## Read HDFS back in"
   ]
  },
  {
   "cell_type": "code",
   "execution_count": 21,
   "metadata": {},
   "outputs": [
    {
     "data": {
      "application/vnd.jupyter.widget-view+json": {
       "model_id": "87f943e3204a454e8fb04068bad3ea2a",
       "version_major": 2,
       "version_minor": 0
      },
      "text/plain": [
       "VBox()"
      ]
     },
     "metadata": {},
     "output_type": "display_data"
    },
    {
     "data": {
      "application/vnd.jupyter.widget-view+json": {
       "model_id": "",
       "version_major": 2,
       "version_minor": 0
      },
      "text/plain": [
       "FloatProgress(value=0.0, bar_style='info', description='Progress:', layout=Layout(height='25px', width='50%'),…"
      ]
     },
     "metadata": {},
     "output_type": "display_data"
    }
   ],
   "source": [
    "sqlContext = SQLContext(sc)\n",
    "argo_df_buck_reread = sqlContext.read.format('parquet').load('hdfs:///argo') "
   ]
  },
  {
   "cell_type": "code",
   "execution_count": 22,
   "metadata": {},
   "outputs": [
    {
     "data": {
      "application/vnd.jupyter.widget-view+json": {
       "model_id": "3347bfc1c0e14f7798eabb7552198ee2",
       "version_major": 2,
       "version_minor": 0
      },
      "text/plain": [
       "VBox()"
      ]
     },
     "metadata": {},
     "output_type": "display_data"
    },
    {
     "data": {
      "application/vnd.jupyter.widget-view+json": {
       "model_id": "",
       "version_major": 2,
       "version_minor": 0
      },
      "text/plain": [
       "FloatProgress(value=0.0, bar_style='info', description='Progress:', layout=Layout(height='25px', width='50%'),…"
      ]
     },
     "metadata": {},
     "output_type": "display_data"
    },
    {
     "name": "stdout",
     "output_type": "stream",
     "text": [
      "+-----------+-----+-----+---------+---------+------+--------------------+-----+----+------------+\n",
      "| profile_id| pres| temp|      lat|      lon|  psal|                date|month|year|pres_buckets|\n",
      "+-----------+-----+-----+---------+---------+------+--------------------+-----+----+------------+\n",
      "|1901725_129| 1.04|7.564|-51.47012|-77.56111|33.668|2018-07-19 11:46:...|    7|2018|         1.0|\n",
      "|1901725_129| 1.96|7.564|-51.47012|-77.56111|33.668|2018-07-19 11:46:...|    7|2018|         1.0|\n",
      "|1901725_129| 3.04|7.564|-51.47012|-77.56111|33.668|2018-07-19 11:46:...|    7|2018|         1.0|\n",
      "|1901725_129|  4.0|7.564|-51.47012|-77.56111|33.668|2018-07-19 11:46:...|    7|2018|         1.0|\n",
      "|1901725_129|  5.0|7.564|-51.47012|-77.56111|33.668|2018-07-19 11:46:...|    7|2018|         2.0|\n",
      "|1901725_129|  6.0|7.564|-51.47012|-77.56111|33.668|2018-07-19 11:46:...|    7|2018|         2.0|\n",
      "|1901725_129| 7.08|7.565|-51.47012|-77.56111|33.668|2018-07-19 11:46:...|    7|2018|         2.0|\n",
      "|1901725_129|  8.0|7.565|-51.47012|-77.56111|33.669|2018-07-19 11:46:...|    7|2018|         2.0|\n",
      "|1901725_129| 8.96|7.565|-51.47012|-77.56111|33.669|2018-07-19 11:46:...|    7|2018|         2.0|\n",
      "|1901725_129| 10.0|7.565|-51.47012|-77.56111|33.669|2018-07-19 11:46:...|    7|2018|         3.0|\n",
      "|1901725_129|12.04|7.566|-51.47012|-77.56111|33.669|2018-07-19 11:46:...|    7|2018|         3.0|\n",
      "|1901725_129|14.04|7.566|-51.47012|-77.56111|33.669|2018-07-19 11:46:...|    7|2018|         3.0|\n",
      "|1901725_129|16.08|7.566|-51.47012|-77.56111|33.669|2018-07-19 11:46:...|    7|2018|         4.0|\n",
      "|1901725_129| 18.0|7.566|-51.47012|-77.56111|33.669|2018-07-19 11:46:...|    7|2018|         4.0|\n",
      "|1901725_129| 20.0|7.566|-51.47012|-77.56111|33.669|2018-07-19 11:46:...|    7|2018|         5.0|\n",
      "|1901725_129| 22.0|7.564|-51.47012|-77.56111| 33.67|2018-07-19 11:46:...|    7|2018|         5.0|\n",
      "|1901725_129|23.96|7.564|-51.47012|-77.56111| 33.67|2018-07-19 11:46:...|    7|2018|         5.0|\n",
      "|1901725_129| 26.0|7.565|-51.47012|-77.56111|33.668|2018-07-19 11:46:...|    7|2018|         6.0|\n",
      "|1901725_129| 28.0|7.556|-51.47012|-77.56111|33.671|2018-07-19 11:46:...|    7|2018|         6.0|\n",
      "|1901725_129|29.96|7.506|-51.47012|-77.56111| 33.69|2018-07-19 11:46:...|    7|2018|         6.0|\n",
      "+-----------+-----+-----+---------+---------+------+--------------------+-----+----+------------+\n",
      "only showing top 20 rows"
     ]
    }
   ],
   "source": [
    "argo_df_buck_reread.show()"
   ]
  }
 ],
 "metadata": {
  "kernelspec": {
   "display_name": "PySpark",
   "language": "",
   "name": "pysparkkernel"
  },
  "language_info": {
   "codemirror_mode": {
    "name": "python",
    "version": 2
   },
   "mimetype": "text/x-python",
   "name": "pyspark",
   "pygments_lexer": "python2"
  }
 },
 "nbformat": 4,
 "nbformat_minor": 4
}
