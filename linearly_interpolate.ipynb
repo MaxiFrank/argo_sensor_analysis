{
 "cells": [
  {
   "cell_type": "code",
   "execution_count": 6,
   "metadata": {},
   "outputs": [],
   "source": [
    "import pandas as pd\n",
    "import numpy as np\n",
    "import random\n",
    "import matplotlib.pyplot as plt\n",
    "import seaborn as sns\n",
    "import pyspark.sql.functions as func\n",
    "from pyspark.sql.functions import col\n",
    "from pyspark.sql import SparkSession\n",
    "from pyspark import SparkContext\n",
    "from pyspark.sql.types import *\n",
    "sc = SparkContext.getOrCreate()\n",
    "ss = SparkSession.builder.getOrCreate()"
   ]
  },
  {
   "cell_type": "code",
   "execution_count": 2,
   "metadata": {},
   "outputs": [],
   "source": [
    "def toDoubleSafe(value): \n",
    "    try:\n",
    "        return float(value)\n",
    "    except ValueError:\n",
    "        return None"
   ]
  },
  {
   "cell_type": "code",
   "execution_count": 3,
   "metadata": {},
   "outputs": [],
   "source": [
    "def toIntSafe(value): \n",
    "    try:\n",
    "        return int(value)\n",
    "    except ValueError:\n",
    "        return None"
   ]
  },
  {
   "cell_type": "code",
   "execution_count": 7,
   "metadata": {},
   "outputs": [],
   "source": [
    "argo = sc.textFile(\"argo_data.csv\") \\\n",
    "         .map(lambda x: x.split(\",\")) \\\n",
    "         .map(lambda x: (x[0], \n",
    "                         toDoubleSafe(x[1]), \n",
    "                         toDoubleSafe(x[2]),\n",
    "                         toDoubleSafe(x[3]),\n",
    "                         toDoubleSafe(x[4]),\n",
    "                         toDoubleSafe(x[5]),\n",
    "                         x[6]))\n",
    "argo_schema = StructType([StructField(\"profile_id\", StringType(), True),\n",
    "                          StructField(\"pres\", DoubleType(), True),\n",
    "                          StructField(\"temp\", DoubleType(), True),\n",
    "                          StructField(\"lat\", DoubleType(), True),\n",
    "                          StructField(\"lon\", DoubleType(), True),\n",
    "                          StructField(\"psal\", DoubleType(), True),\n",
    "                          StructField(\"date\", TimestampType(), True),\n",
    "                        ])\n",
    "argo_df = ss.read.csv(\"argo_data.csv\", header=True, schema=argo_schema)"
   ]
  },
  {
   "cell_type": "code",
   "execution_count": 11,
   "metadata": {},
   "outputs": [
    {
     "name": "stdout",
     "output_type": "stream",
     "text": [
      "+----------+----+-----+------+------+------+-------------------+\n",
      "|profile_id|pres| temp|   lat|   lon|  psal|               date|\n",
      "+----------+----+-----+------+------+------+-------------------+\n",
      "|5905377_14|2.91|1.048|-56.73|148.24|33.739|2018-06-17 16:59:45|\n",
      "|5905377_14|4.21|1.049|-56.73|148.24|33.738|2018-06-17 16:59:45|\n",
      "|5905377_14|6.21|1.049|-56.73|148.24|33.738|2018-06-17 16:59:45|\n",
      "+----------+----+-----+------+------+------+-------------------+\n",
      "only showing top 3 rows\n",
      "\n"
     ]
    }
   ],
   "source": [
    "argo_df.show(3)"
   ]
  },
  {
   "cell_type": "code",
   "execution_count": 46,
   "metadata": {},
   "outputs": [
    {
     "name": "stdout",
     "output_type": "stream",
     "text": [
      "+-----------+--------------------+\n",
      "| profile_id|      temp_pres_list|\n",
      "+-----------+--------------------+\n",
      "| 5905293_29|[28.567, 28.566, ...|\n",
      "|4901659_142|[24.296, 24.296, ...|\n",
      "|5904161_236|[-1.671, -1.657, ...|\n",
      "|5902385_124|[8.42, 8.42, 8.42...|\n",
      "| 2902676_53|[30.067, 29.848, ...|\n",
      "|5903601_240|[14.992, 12.59, 1...|\n",
      "|3901205_123|[24.722, 24.729, ...|\n",
      "| 5902476_72|[19.721, 19.72, 1...|\n",
      "|5903808_221|[29.881, 29.9, 29...|\n",
      "|5904597_169|[-0.506, -0.49, -...|\n",
      "|2902656_254|[29.885, 29.894, ...|\n",
      "| 2902717_10|[29.531, 29.54, 2...|\n",
      "|4901409_231|[20.468, 20.353, ...|\n",
      "| 5904767_79|[-0.222, -0.22, -...|\n",
      "| 5905353_25|[10.136, 10.136, ...|\n",
      "|4901565_183|[8.667, 8.667, 8....|\n",
      "|5901691_348|[9.369, 9.371, 9....|\n",
      "|5903840_227|[29.45, 29.448, 2...|\n",
      "|5904715_109|[28.984, 28.998, ...|\n",
      "| 6903232_13|[5.107, 5.108, 5....|\n",
      "+-----------+--------------------+\n",
      "only showing top 20 rows\n",
      "\n"
     ]
    }
   ],
   "source": [
    "from pyspark.sql.functions import *\n",
    "\n",
    "insane_sort = udf(lambda x: [item[0] for item in sorted(x,key=lambda x: x[1])], ArrayType(DoubleType()))\n",
    "\n",
    "array(argo_df['temp'],array(argo_df['pres']))\n",
    "\n",
    "argo_df_listed = argo_df.select('profile_id',array(argo_df['temp'],argo_df['pres']).alias('temp_pres'))\\\n",
    "       .groupBy('profile_id').agg(collect_list('temp_pres').alias('temp_pres_list'))\n",
    "argo_df_listed = argo_df_listed.select('profile_id',insane_sort(argo_df_listed['temp_pres_list']).alias('temp_pres_list'))\n",
    "argo_df_listed.show()"
   ]
  },
  {
   "cell_type": "code",
   "execution_count": null,
   "metadata": {},
   "outputs": [],
   "source": []
  }
 ],
 "metadata": {
  "kernelspec": {
   "display_name": "Python 3",
   "language": "python",
   "name": "python3"
  },
  "language_info": {
   "codemirror_mode": {
    "name": "ipython",
    "version": 3
   },
   "file_extension": ".py",
   "mimetype": "text/x-python",
   "name": "python",
   "nbconvert_exporter": "python",
   "pygments_lexer": "ipython3",
   "version": "3.7.4"
  },
  "varInspector": {
   "cols": {
    "lenName": 16,
    "lenType": 16,
    "lenVar": 40
   },
   "kernels_config": {
    "python": {
     "delete_cmd_postfix": "",
     "delete_cmd_prefix": "del ",
     "library": "var_list.py",
     "varRefreshCmd": "print(var_dic_list())"
    },
    "r": {
     "delete_cmd_postfix": ") ",
     "delete_cmd_prefix": "rm(",
     "library": "var_list.r",
     "varRefreshCmd": "cat(var_dic_list()) "
    }
   },
   "types_to_exclude": [
    "module",
    "function",
    "builtin_function_or_method",
    "instance",
    "_Feature"
   ],
   "window_display": false
  }
 },
 "nbformat": 4,
 "nbformat_minor": 2
}
